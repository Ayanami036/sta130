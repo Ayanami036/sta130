{
 "cells": [
  {
   "cell_type": "markdown",
   "id": "4a2a7dc7",
   "metadata": {},
   "source": [
    "Q1\n",
    "Bootstrapping is a statistical method used to estimate the distribution of a statistic by resampling data with replacement.It repeatedly takes sample from the data, computes the desired statistic for each sample, and then uses the results to approximate the statistic's distribution.\n",
    "The standard error of the mean quantifies how much the sample mean (average) is expected to vary if you were to take multiple samples from the same population.It describes the dispersion degree of the sample data.\n",
    "The standard deviation measures the variability or spread of individual data points in a dataset around the mean of that dataset.It describes the dispersion degree of the original data. \n",
    "\n",
    "SUMMARY\n",
    "SD measures the spread of individual data points around the mean.\n",
    "SEM measures the precision of the sample mean as an estimate of the population mean.\n",
    "SD remains constant regardless of sample size, while SEM decreases as sample size increases.\n",
    "SD is used to describe variability in the dataset, while SEM is used to assess the reliability of the sample mean.\n",
    "https://chatgpt.com/share/66fd84c9-b9e0-8000-b2cd-cd67ac3dd344"
   ]
  },
  {
   "cell_type": "markdown",
   "id": "2e9305c6",
   "metadata": {},
   "source": [
    "Q2\n",
    "STEP1:draw bootstrap samples from your original data with replacement and get bootstrap mean\n",
    "STEP2:use the formula to calculate the standard error of the mean(SEM) from bootstrap samples\n",
    "STEP3:use the formula CI=(bootstrap mean)±1.96×SEM to get the Confidence Interval\n",
    "SUMMARY\n",
    "To create a 95% confidence interval that covers 95% of bootstrapped sample means:\n",
    "\n",
    "Bootstrap Resampling: Generate multiple bootstrap samples from the original data and calculate the mean of each sample.\n",
    "Standard Error of the Mean (SEM): Calculate SEM from the standard deviation of the bootstrap means.\n",
    "Confidence Interval: Use the formula \n",
    "CI\n",
    "=\n",
    "𝑥\n",
    "ˉ\n",
    "bootstrap\n",
    "±\n",
    "1.96\n",
    "×\n",
    "𝑆\n",
    "𝐸\n",
    "𝑀\n",
    "CI= \n",
    "x\n",
    "ˉ\n",
    "  \n",
    "bootstrap\n",
    "​\n",
    " ±1.96×SEM, where 1.96 is the critical value for a 95% confidence level.\n",
    "Interpretation: This interval will capture 95% of the bootstrap sample means, assuming normality.\n",
    "\n",
    "https://chatgpt.com/share/66fd86b0-01d4-8000-a6b2-5f12a276e15d"
   ]
  },
  {
   "cell_type": "markdown",
   "id": "edfab22e",
   "metadata": {},
   "source": [
    "Q3\n",
    "STEP1 use pd.read_csv to load my data.\n",
    "STEP2 setup parameter, such as reps and sample size\n",
    "STEP3 use np.zeros to make an array to save the values\n",
    "STEP4 make a random seed by using np.random.seed\n",
    "STEP5 take a sample from the original data with replacement by using np.random.choice\n",
    "STEP6 calculate mean of each bootstrap sample by using sample.()\n",
    "STEP7 create a 95% bootstrapped confidence interval by using np.quantile(bootstrapped means)"
   ]
  },
  {
   "cell_type": "code",
   "execution_count": 1,
   "id": "9664ee77",
   "metadata": {},
   "outputs": [
    {
     "name": "stdout",
     "output_type": "stream",
     "text": [
      "Original Mean: 100.29\n",
      "95% Bootstrap Confidence Interval: (99.39, 101.22)\n"
     ]
    }
   ],
   "source": [
    "#Q4\n",
    "import numpy as np\n",
    "import scipy.stats as stats\n",
    "np.random.seed(42)\n",
    "data = np.random.normal(loc=100, scale=15, size=1000)\n",
    "n_bootstraps = 10000\n",
    "def bootstrap_means(data, n_bootstraps):\n",
    "    boot_means = np.empty(n_bootstraps)\n",
    "    n = len(data)\n",
    "    for i in range(n_bootstraps):\n",
    "        sample = np.random.choice(data, size=n, replace=True)\n",
    "        boot_means[i] = np.mean(sample)\n",
    "    return boot_means\n",
    "boot_means = bootstrap_means(data, n_bootstraps)\n",
    "alpha = 0.05\n",
    "lower_bound = np.percentile(boot_means, alpha/2 * 100)\n",
    "upper_bound = np.percentile(boot_means, (1 - alpha/2) * 100)\n",
    "mean_original = np.mean(data)\n",
    "print(f\"Original Mean: {mean_original:.2f}\")\n",
    "print(f\"95% Bootstrap Confidence Interval: ({lower_bound:.2f}, {upper_bound:.2f})\")\n",
    "\n"
   ]
  },
  {
   "cell_type": "markdown",
   "id": "ee2c9ea7",
   "metadata": {},
   "source": [
    "SUMMARY\n",
    "This Python code computes a 95% bootstrap confidence interval for the population mean of a dataset:\n",
    "\n",
    "Bootstrap Process: It creates many random samples (with replacement) from the original data and calculates the mean for each sample.\n",
    "Confidence Interval: The 95% interval is determined by taking the 2.5th and 97.5th percentiles of the bootstrap means.\n",
    "Result: The code provides both the original mean and the confidence interval bounds.\n",
    "This approach is useful for estimating population parameters when the data distribution is unknown or when assumptions like normality are questionable.\n",
    "https://chatgpt.com/share/66fd8c85-72ec-8000-bc6b-e0a5fcc09ac3"
   ]
  },
  {
   "cell_type": "markdown",
   "id": "065bb026",
   "metadata": {},
   "source": [
    "Q5\n",
    "In reality, the population parameter is usually unknown because it's typically impractical or impossible to measure the entire population.The sample statistic is used to estimate the population parameter because it's generally impractical to gather data from the entire population. But we need to do a lot of random repeat sampling to make sure that the resulting confidence interval is valid for the population parameter\n",
    "\n",
    "SUMMARY\n",
    "We distinguish between the population parameter (a fixed value describing the entire population) and the sample statistic (a value derived from a sample) because they represent different levels of certainty. The population parameter is typically unknown, while the sample statistic is an estimate that can vary due to sampling variability.\n",
    "\n",
    "Confidence intervals use the sample statistic to estimate the population parameter, accounting for uncertainty. They provide a range of values where the population parameter is likely to fall, given the variability in samples. This distinction is essential for accurate statistical inference.\n",
    "https://chatgpt.com/share/66fd8e35-d9a0-8000-94a5-a96658b3ccb4"
   ]
  },
  {
   "cell_type": "markdown",
   "id": "ae514eab",
   "metadata": {},
   "source": [
    "Q6\n",
    "1.resample with replacement from the original data and get many bootstrap samples\n",
    "2.the main purpose is to estimate the distribution of a data given\n",
    "3.first get the CI by using bootstrapping.then find out if the hypothesized mean lies in the CI. If it lies in the CI ,then your (hypothesized) guess might be plausible. If it it doesn't lie in the CI ,then your (hypothesized) guess might not be plausible."
   ]
  },
  {
   "cell_type": "markdown",
   "id": "3866f080",
   "metadata": {},
   "source": [
    "Q7\n",
    "A confidence interval that includes zero suggests that the effect could be zero, moreover there's a good chance it's going to be 0.That means 95% of the time the null hypothesis is correct, thus we fail to reject the null hypothesis.\n",
    "And we fail to conclude Ha which means the drug has effect because we don't have enough evidence to show Ha is plausible."
   ]
  },
  {
   "cell_type": "markdown",
   "id": "8be660a1",
   "metadata": {},
   "source": [
    "Q8\n",
    "null hypotheses:the vaccine is not effective. u=0 (u means the population means of the difference between FinalHealthScore and FinalHealthScore"
   ]
  },
  {
   "cell_type": "code",
   "execution_count": null,
   "id": "38ce10d2",
   "metadata": {},
   "outputs": [],
   "source": [
    "import pandas as pd\n",
    "import numpy as np\n",
    "import matplotlib.pyplot as plt\n",
    "\n",
    "data = {\n",
    "    \"PatientID\": [1, 2, 3, 4, 5, 6, 7, 8, 9, 10],\n",
    "    \"Age\": [45, 34, 29, 52, 37, 41, 33, 48, 26, 39],\n",
    "    \"Gender\": ['M', 'F', 'M', 'F', 'M', 'F', 'M', 'F', 'M', 'F'],\n",
    "    \"InitialHealthScore\": [84, 78, 83, 81, 81, 80, 79, 85, 76, 83],\n",
    "    \"FinalHealthScore\": [86, 86, 80, 86, 84, 86, 86, 82, 83, 84]\n",
    "}\n",
    "\n",
    "df = pd.DataFrame(data)\n",
    "df['ChangeInHealthScore'] = df['FinalHealthScore'] - df['InitialHealthScore']\n",
    "\n",
    "np.random.seed(130)\n",
    "observed_diff = df['ChangeInHealthScore'].mean()\n",
    "n_iterations = 10000\n",
    "bootstrapped_means = []\n",
    "\n",
    "for i in range(n_iterations):\n",
    "    sample_diff = np.random.choice(df['ChangeInHealthScore'], size=len(df), replace=True)\n",
    "    bootstrapped_means.append(sample_diff.mean())\n",
    "\n",
    "bootstrapped_means = np.array(bootstrapped_means)\n",
    "conf_interval = np.percentile(bootstrapped_means, [2.5, 97.5])\n",
    "\n",
    "print(f\"Observed Mean Difference: {observed_diff}\")\n",
    "print(f\"95% Confidence Interval: {conf_interval}\")\n"
   ]
  },
  {
   "cell_type": "markdown",
   "id": "bfd254c5",
   "metadata": {},
   "source": [
    "since 0 doesn't lies in the CT, so we reject null hypotheses, which means the vaccine has effect."
   ]
  },
  {
   "cell_type": "code",
   "execution_count": null,
   "id": "94015a83",
   "metadata": {},
   "outputs": [],
   "source": [
    "Q9\n",
    "yes"
   ]
  }
 ],
 "metadata": {
  "kernelspec": {
   "display_name": "Python 3 (ipykernel)",
   "language": "python",
   "name": "python3"
  },
  "language_info": {
   "codemirror_mode": {
    "name": "ipython",
    "version": 3
   },
   "file_extension": ".py",
   "mimetype": "text/x-python",
   "name": "python",
   "nbconvert_exporter": "python",
   "pygments_lexer": "ipython3",
   "version": "3.11.6"
  }
 },
 "nbformat": 4,
 "nbformat_minor": 5
}
