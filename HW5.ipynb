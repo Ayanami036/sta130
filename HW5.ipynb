{
 "cells": [
  {
   "cell_type": "markdown",
   "id": "a716b90c",
   "metadata": {},
   "source": [
    "Q1\n",
    "the key factor is whether a hypothesis involves variables that can be observed, measured, or counted,or in another, if the hypothesis has data that we can analyse.\n",
    "key criteria:Specific and Clear ,Testable, Falsifiable, Neutral\n",
    "a null hypothesis always assumes that there is no effect while an alternative hypothesis always assumes that there is no effect\n",
    "Summary:\n",
    "Null Hypothesis (H₀): Assumes no effect or difference (default position).\n",
    "Alternative Hypothesis (H₁): Proposes that there is an effect or difference (what the researcher aims to demonstrate).\n",
    "Statistical testing revolves around determining whether the evidence from the data is strong enough to reject the null hypothesis in favor of the alternative hypothesis.\n",
    "https://chatgpt.com/share/670d39b0-1568-8000-81f8-e328877e0a29"
   ]
  },
  {
   "cell_type": "markdown",
   "id": "f2db2497",
   "metadata": {},
   "source": [
    "Q2\n",
    "xi is the observed value during the test. For example, if you want to know about whether changing the way will influnce the whole class score,and you take a sample of 10 students. The student's grade is x1,x2,x3.... and the sample mean is x̄.μis the actual average grade of the whole class. and μ0 is the supposed average grade of the whole class"
   ]
  },
  {
   "cell_type": "markdown",
   "id": "35f2301a",
   "metadata": {},
   "source": [
    "Q3\n",
    "when we imagine the null hypothesis is true, we can more easliy determine whether the obseved value is normal or unnormal after stastic calculating."
   ]
  },
  {
   "cell_type": "markdown",
   "id": "ceef40b0",
   "metadata": {},
   "source": [
    "Q4\n",
    "because Null Hypothesis supposes things will not happen or has no effect. Based on this assumption, we however find that a small probability event occurs,leading to a smaller p-value, which means the null hypothesis looks more ridiculous."
   ]
  },
  {
   "cell_type": "markdown",
   "id": "7bf29559",
   "metadata": {},
   "source": [
    "Q8\n",
    "H0: The students are simply guessing whether the tea or milk was poured first, meaning the probability of a correct answer is 50%\n",
    "H1: The students are not guessing and are able to detect the order better than random chance"
   ]
  },
  {
   "cell_type": "code",
   "execution_count": 2,
   "id": "b0685f77",
   "metadata": {},
   "outputs": [
    {
     "name": "stdout",
     "output_type": "stream",
     "text": [
      "p-value: BinomTestResult(k=49, n=80, alternative='greater', statistic=0.6125, pvalue=0.028332213172560572)\n"
     ]
    }
   ],
   "source": [
    "import numpy as np\n",
    "from scipy import stats\n",
    "np.random.seed(130)\n",
    "n = 80  \n",
    "x = 49  \n",
    "p_null = 0.5  \n",
    "p_value = stats.binomtest(x, n, p_null, alternative='greater')\n",
    "print(f\"p-value: {p_value}\")"
   ]
  },
  {
   "cell_type": "markdown",
   "id": "8f58c25f",
   "metadata": {},
   "source": [
    "p-value < 0.05, so we reject H0 and fail to reject H1, which means STA130 students can actually tell whether the tea or milk was poured first.\n"
   ]
  }
 ],
 "metadata": {
  "kernelspec": {
   "display_name": "Python 3 (ipykernel)",
   "language": "python",
   "name": "python3"
  },
  "language_info": {
   "codemirror_mode": {
    "name": "ipython",
    "version": 3
   },
   "file_extension": ".py",
   "mimetype": "text/x-python",
   "name": "python",
   "nbconvert_exporter": "python",
   "pygments_lexer": "ipython3",
   "version": "3.11.6"
  }
 },
 "nbformat": 4,
 "nbformat_minor": 5
}
